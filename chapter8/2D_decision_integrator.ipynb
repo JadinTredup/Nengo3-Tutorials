{
 "metadata": {
  "name": "",
  "signature": "sha256:6c5d0dfa10b7390da0e6a0b3bb022071e409c43e22f8b0b41bfa3f43fc6d052e"
 },
 "nbformat": 3,
 "nbformat_minor": 0,
 "worksheets": [
  {
   "cells": [
    {
     "cell_type": "heading",
     "level": 1,
     "metadata": {},
     "source": [
      "2D Decision Integrator"
     ]
    },
    {
     "cell_type": "markdown",
     "metadata": {},
     "source": [
      "This is a model of perceptual decision making using a two dimensional integrator. As mentioned in the book, the goal is to construct a simple model of perceptual decision making without being concerned with establishing how good or bad it is. \n",
      "\n",
      "Rather than having two different integrators for each dimension, you will build the model using a single two dimensional integrator. This integrator can be used irrespective of the task demands since it effectively integrates in every direction simultaneously. This is neurally more efficient due to the reasons explained in the book."
     ]
    },
    {
     "cell_type": "code",
     "collapsed": false,
     "input": [
      "#Setup the environment\n",
      "import matplotlib.pyplot as plt\n",
      "import numpy as np\n",
      "%matplotlib inline\n",
      "\n",
      "import nengo\n",
      "from nengo.processes import WhiteNoise\n",
      "from nengo.utils.functions import piecewise\n",
      "from nengo.utils.matplotlib import rasterplot\n",
      "from nengo.dists import Uniform"
     ],
     "language": "python",
     "metadata": {},
     "outputs": [
      {
       "javascript": [
        "\n",
        "        require([\"widgets/js/widget\", \"widgets/js/manager\"],\n",
        "            function(widget, manager) {\n",
        "          if (typeof widget.DOMWidgetView == 'undefined') {\n",
        "            widget = IPython;\n",
        "          }\n",
        "          if (typeof manager.WidgetManager == 'undefined') {\n",
        "            manager = IPython;\n",
        "          }\n",
        "\n",
        "          var NengoProgressBar = widget.DOMWidgetView.extend({\n",
        "            render: function() {\n",
        "              // $el is the DOM of the widget\n",
        "              this.$el.css({width: '100%', marginBottom: '0.5em'});\n",
        "              this.$el.html([\n",
        "                '<div style=\"',\n",
        "                    'width: 100%;',\n",
        "                    'border: 1px solid #cfcfcf;',\n",
        "                    'border-radius: 4px;',\n",
        "                    'text-align: center;',\n",
        "                    'position: relative;\">',\n",
        "                  '<div class=\"pb-text\" style=\"',\n",
        "                      'position: absolute;',\n",
        "                      'width: 100%;\">',\n",
        "                    '0%',\n",
        "                  '</div>',\n",
        "                  '<div class=\"pb-bar\" style=\"',\n",
        "                      'background-color: #bdd2e6;',\n",
        "                      'width: 0%;',\n",
        "                      'transition: width 0.1s linear;\">',\n",
        "                    '&nbsp;',\n",
        "                  '</div>',\n",
        "                '</div>'].join(''));\n",
        "            },\n",
        "\n",
        "            update: function() {\n",
        "              this.$el.css({width: '100%', marginBottom: '0.5em'});\n",
        "              var progress = 100 * this.model.get('progress');\n",
        "              var text = this.model.get('text');\n",
        "              this.$el.find('div.pb-bar').width(progress.toString() + '%');\n",
        "              this.$el.find('div.pb-text').text(text);\n",
        "            },\n",
        "          });\n",
        "\n",
        "          manager.WidgetManager.register_widget_view(\n",
        "            'NengoProgressBar', NengoProgressBar);\n",
        "        });"
       ],
       "metadata": {},
       "output_type": "display_data",
       "text": [
        "<IPython.core.display.Javascript at 0x7f8906c2e950>"
       ]
      }
     ],
     "prompt_number": 1
    },
    {
     "cell_type": "markdown",
     "metadata": {},
     "source": [
      "## Create the Model"
     ]
    },
    {
     "cell_type": "markdown",
     "metadata": {},
     "source": [
      "The model has four ensembles: MT representing the motion area, LIP representing the lateral intraparietal area, input and output of the 2D integrator. The parameters used in the model are as described in the book. The 2D integrator resides in LIP. As discussed in the book an integrator requires two connections: here, the input from MT to LIP and the feedback connection from LIP to LIP.\n",
      "\n",
      "Here, you will provide a an input of (-0.5, 0.5) to the model spanning over a period of 6 seconds to observe the model behaviour. In order to inject noise while the simulation runs, you can use the 'noise' parameter when creating ensembles as shown. The reason for injecting noise is explained in the book. "
     ]
    },
    {
     "cell_type": "code",
     "collapsed": false,
     "input": [
      "model = nengo.Network(label='2D Decision Integrator')\n",
      "with model:\n",
      "    #Input\n",
      "    input1 = nengo.Node(-0.5)\n",
      "    input2 = nengo.Node(0.5)\n",
      "    \n",
      "    #Ensembles \n",
      "    input = nengo.Ensemble(100, dimensions=2)\n",
      "    MT = nengo.Ensemble(100, dimensions=2, noise=WhiteNoise(dist=Uniform(-0.3,0.3)))\n",
      "    LIP = nengo.Ensemble(200, dimensions=2, noise=WhiteNoise(dist=Uniform(-0.3,0.3)))\n",
      "    output = nengo.Ensemble(100, dimensions=2, noise=WhiteNoise(dist=Uniform(-0.3,0.3)))\n",
      "     \n",
      "    weight = 0.1\n",
      "    #Connecting the input signal to the input ensemble\n",
      "    nengo.Connection(input1, input[0], synapse=0.01)   \n",
      "    nengo.Connection(input2, input[1], synapse=0.01) \n",
      "    \n",
      "    #Providing input to MT ensemble\n",
      "    nengo.Connection(input, MT, synapse=0.01) \n",
      "    \n",
      "    #Connecting MT ensemble to LIP ensemble\n",
      "    nengo.Connection(MT, LIP, transform=weight, synapse=0.1) \n",
      "    \n",
      "    #Connecting LIP ensemble to itself\n",
      "    nengo.Connection(LIP, LIP, synapse=0.1) \n",
      "    \n",
      "    #Connecting LIP population to output\n",
      "    nengo.Connection(LIP, output, synapse=0.01) "
     ],
     "language": "python",
     "metadata": {},
     "outputs": [],
     "prompt_number": 2
    },
    {
     "cell_type": "markdown",
     "metadata": {},
     "source": [
      "## Add Probes to Collect Data"
     ]
    },
    {
     "cell_type": "code",
     "collapsed": false,
     "input": [
      "with model:\n",
      "    MT_probe = nengo.Probe(MT, synapse=0.1)\n",
      "    LIP_probe = nengo.Probe(LIP, synapse=0.1)          \n",
      "    input_probe = nengo.Probe(input, synapse=0.1)      \n",
      "    output_probe = nengo.Probe(output, synapse=0.1) \n",
      "    output_spikes = nengo.Probe(output.neurons)        # The raw spikes from the output neurons"
     ],
     "language": "python",
     "metadata": {},
     "outputs": [],
     "prompt_number": 3
    },
    {
     "cell_type": "markdown",
     "metadata": {},
     "source": [
      "## Run the Model"
     ]
    },
    {
     "cell_type": "code",
     "collapsed": false,
     "input": [
      "sim = nengo.Simulator(model)    #Create the simulator\n",
      "sim.run(6.0)    #Run it for 6 seconds"
     ],
     "language": "python",
     "metadata": {},
     "outputs": [],
     "prompt_number": 4
    },
    {
     "cell_type": "markdown",
     "metadata": {},
     "source": [
      "## Plot the Results "
     ]
    },
    {
     "cell_type": "code",
     "collapsed": false,
     "input": [
      "plt.figure(figsize=(14, 3))\n",
      "plt.subplot(1, 3, 1)\n",
      "plt.plot(sim.trange(), sim.data[MT_probe], 'g', label=\"MT\")\n",
      "plt.title(\"MT\");\n",
      "\n",
      "plt.subplot(1, 3, 2)\n",
      "plt.plot(sim.trange(), sim.data[LIP_probe], 'b', label=\"LIP\")\n",
      "plt.title(\"LIP\");\n",
      "\n",
      "plt.subplot(1, 3, 3)\n",
      "plt.plot(sim.trange(), sim.data[input_probe], 'r', label=\"input\")\n",
      "plt.plot(sim.trange(), sim.data[output_probe], 'k', label=\"output\")\n",
      "plt.legend(bbox_to_anchor=(1.05, 1), loc=2, borderaxespad=0.0);\n",
      "\n",
      "#Plot the spiking output \n",
      "plt.figure(figsize=(14, 3))\n",
      "plt.subplot(1, 3, 1)\n",
      "plt.plot(sim.trange(), sim.data[output_spikes])\n",
      "plt.title(\"Output Spikes\");"
     ],
     "language": "python",
     "metadata": {},
     "outputs": [
      {
       "metadata": {},
       "output_type": "display_data",
       "png": "[encoded data removed]",
       "text": [
        "<matplotlib.figure.Figure at 0x7f89056a6e90>"
       ]
      },
      {
       "metadata": {},
       "output_type": "display_data",
       "png": "[encoded data removed]",
       "text": [
        "<matplotlib.figure.Figure at 0x7f89059e0fd0>"
       ]
      }
     ],
     "prompt_number": 5
    },
    {
     "cell_type": "markdown",
     "metadata": {},
     "source": [
      "The third plot on the top shows the output of the 2D decision integrator which is represented by a single two dimensional output ensemble. You can see that as MT encodes the input over time, LIP slowly moves towards the same direction as it acuumulates evidence that there is sustained motion in that direction.\n",
      "\n",
      "Thus MT moves LIP in the right direction and once past a certain threshold, the output neurons start firing. This is shown in the 'Output Spikes' graph on the bottom left."
     ]
    }
   ],
   "metadata": {}
  }
 ]
}