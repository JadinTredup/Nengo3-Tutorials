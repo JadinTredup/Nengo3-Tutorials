{
 "metadata": {
  "name": "",
  "signature": "sha256:5ccdb7d00338f2f845f2f357abdcde2f0e3fb4f22099b24228e987d06211f73e"
 },
 "nbformat": 3,
 "nbformat_minor": 0,
 "worksheets": [
  {
   "cells": [
    {
     "cell_type": "markdown",
     "metadata": {},
     "source": [
      "# A Single Neuron Model\n",
      "\n",
      "All models in nengo are built inside \"networks\". Inside a network, you can put more networks, and you can connect networks to each other. You can also put other objects such as neural populations or \"ensembles\" (which have individual neurons inside of them) inside the networks. For this model, you will make a network with one neuron."
     ]
    },
    {
     "cell_type": "code",
     "collapsed": false,
     "input": [
      "#Setup the environment\n",
      "import numpy as np\n",
      "import matplotlib.pyplot as plt\n",
      "%matplotlib inline\n",
      "\n",
      "import nengo\n",
      "from nengo.utils.matplotlib import rasterplot"
     ],
     "language": "python",
     "metadata": {},
     "outputs": [
      {
       "javascript": [
        "\n",
        "        require([\"widgets/js/widget\", \"widgets/js/manager\"],\n",
        "            function(widget, manager) {\n",
        "          if (typeof widget.DOMWidgetView == 'undefined') {\n",
        "            widget = IPython;\n",
        "          }\n",
        "          if (typeof manager.WidgetManager == 'undefined') {\n",
        "            manager = IPython;\n",
        "          }\n",
        "\n",
        "          var NengoProgressBar = widget.DOMWidgetView.extend({\n",
        "            render: function() {\n",
        "              // $el is the DOM of the widget\n",
        "              this.$el.css({width: '100%', marginBottom: '0.5em'});\n",
        "              this.$el.html([\n",
        "                '<div style=\"',\n",
        "                    'width: 100%;',\n",
        "                    'border: 1px solid #cfcfcf;',\n",
        "                    'border-radius: 4px;',\n",
        "                    'text-align: center;',\n",
        "                    'position: relative;\">',\n",
        "                  '<div class=\"pb-text\" style=\"',\n",
        "                      'position: absolute;',\n",
        "                      'width: 100%;\">',\n",
        "                    '0%',\n",
        "                  '</div>',\n",
        "                  '<div class=\"pb-bar\" style=\"',\n",
        "                      'background-color: #bdd2e6;',\n",
        "                      'width: 0%;',\n",
        "                      'transition: width 0.1s linear;\">',\n",
        "                    '&nbsp;',\n",
        "                  '</div>',\n",
        "                '</div>'].join(''));\n",
        "            },\n",
        "\n",
        "            update: function() {\n",
        "              this.$el.css({width: '100%', marginBottom: '0.5em'});\n",
        "              var progress = 100 * this.model.get('progress');\n",
        "              var text = this.model.get('text');\n",
        "              this.$el.find('div.pb-bar').width(progress.toString() + '%');\n",
        "              this.$el.find('div.pb-text').text(text);\n",
        "            },\n",
        "          });\n",
        "\n",
        "          manager.WidgetManager.register_widget_view(\n",
        "            'NengoProgressBar', NengoProgressBar);\n",
        "        });"
       ],
       "metadata": {},
       "output_type": "display_data",
       "text": [
        "<IPython.core.display.Javascript at 0x7f418d79b7d0>"
       ]
      }
     ],
     "prompt_number": 1
    },
    {
     "cell_type": "markdown",
     "metadata": {},
     "source": [
      "## Create the Model"
     ]
    },
    {
     "cell_type": "markdown",
     "metadata": {},
     "source": [
      "This model has parameters as described in the book, ensuring that it is an \"on\" neuron. The neuron will be slightly different each time you run this script, as many parameters are randomly chosen."
     ]
    },
    {
     "cell_type": "code",
     "collapsed": false,
     "input": [
      "from nengo.dists import Uniform\n",
      "\n",
      "model = nengo.Network(label='A Single Neuron')\n",
      "with model:\n",
      "    #Input\n",
      "    cos = nengo.Node(lambda t: np.cos(16 * t))\n",
      "    \n",
      "    #Ensemble with one neuron\n",
      "    neuron = nengo.Ensemble(1, dimensions=1, #Represent a scalar\n",
      "                            encoders=[[1]])   #Sets the neurons firing rate to increase for positive input\n",
      "    \n",
      "    #Connecting input to ensemble\n",
      "    nengo.Connection(cos, neuron)"
     ],
     "language": "python",
     "metadata": {},
     "outputs": [],
     "prompt_number": 2
    },
    {
     "cell_type": "markdown",
     "metadata": {},
     "source": [
      "## Add Probes to Collect Data\n",
      "Anything that is probed will collect the data it produces over time, allowing you to analyze and visualize it later. Probes are used to collect the data shown in the visualizer in the book. Here, you will plot the data manually."
     ]
    },
    {
     "cell_type": "code",
     "collapsed": false,
     "input": [
      "with model:\n",
      "    cos_probe = nengo.Probe(cos)                      # The original input\n",
      "    spikes = nengo.Probe(neuron.neurons)              # The raw spikes from the neuron\n",
      "    voltage = nengo.Probe(neuron.neurons, 'voltage')  # Subthreshold soma voltage of the neuron\n",
      "    filtered = nengo.Probe(neuron, synapse=0.01)      # Spikes filtered by a 10ms post-synaptic filter"
     ],
     "language": "python",
     "metadata": {},
     "outputs": [],
     "prompt_number": 3
    },
    {
     "cell_type": "markdown",
     "metadata": {},
     "source": [
      "## Run the Model"
     ]
    },
    {
     "cell_type": "markdown",
     "metadata": {},
     "source": [
      "In order to run the model, you have to create a simulator. Then, you can run that simulator over and over again without affecting the original model."
     ]
    },
    {
     "cell_type": "code",
     "collapsed": false,
     "input": [
      "sim = nengo.Simulator(model) #Create the simulator\n",
      "sim.run(0.5) #Run it for 0.5 seconds"
     ],
     "language": "python",
     "metadata": {},
     "outputs": [],
     "prompt_number": 4
    },
    {
     "cell_type": "markdown",
     "metadata": {},
     "source": [
      "## Plot the Results"
     ]
    },
    {
     "cell_type": "code",
     "collapsed": false,
     "input": [
      "#Plot the decoded output of the ensemble\n",
      "plt.plot(sim.trange(), sim.data[filtered], label='Neuron Response')\n",
      "plt.plot(sim.trange(), sim.data[cos_probe], label = 'Input')\n",
      "plt.legend(loc=\"best\")\n",
      "\n",
      "#Plot the spiking output of the ensemble\n",
      "plt.figure()\n",
      "rasterplot(sim.trange(), sim.data[spikes])\n",
      "plt.title(\"Neuron Spikes\")"
     ],
     "language": "python",
     "metadata": {},
     "outputs": [
      {
       "metadata": {},
       "output_type": "pyout",
       "prompt_number": 5,
       "text": [
        "<matplotlib.text.Text at 0x7f418cd71550>"
       ]
      },
      {
       "metadata": {},
       "output_type": "display_data",
       "png": "[encoded data removed]",
       "text": [
        "<matplotlib.figure.Figure at 0x7f418cdf1750>"
       ]
      },
      {
       "metadata": {},
       "output_type": "display_data",
       "png": "[encoded data removed]",
       "text": [
        "<matplotlib.figure.Figure at 0x7f418cdc2850>"
       ]
      }
     ],
     "prompt_number": 5
    },
    {
     "cell_type": "markdown",
     "metadata": {},
     "source": [
      "The graph on the top shows the input signal in green and the filtered output spikes from the single neuron in blue. The spikes (that are filtered) from the neuron are shown in the bottom graph on the left."
     ]
    }
   ],
   "metadata": {}
  }
 ]
}