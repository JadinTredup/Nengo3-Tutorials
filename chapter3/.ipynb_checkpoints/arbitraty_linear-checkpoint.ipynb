{
 "metadata": {
  "name": "",
  "signature": "sha256:c858514e81bd4a3dd9792eaff755288278096b231edfe2c4df5c6bfef18581b7"
 },
 "nbformat": 3,
 "nbformat_minor": 0,
 "worksheets": [
  {
   "cells": [
    {
     "cell_type": "markdown",
     "metadata": {},
     "source": [
      "# Arbitraty Linear Transformation"
     ]
    },
    {
     "cell_type": "markdown",
     "metadata": {},
     "source": [
      "This model shows that any linear transformation between ensembles can be easily computed by selecting an appropriate value for the \"transform\". It provides an example of computing linear transformations using vector representations.\n",
      "\n",
      "Network diagram:\n",
      "\n",
      "      [input - 2D] ---> (x - 2d) ---> (z - 3D)\n",
      "\n",
      "A two-dimensional input signal is first fed into a two-dimensional neuronal ensemble `x` , which then projects it on to another three-dimensional ensemble `z`."
     ]
    },
    {
     "cell_type": "code",
     "collapsed": false,
     "input": [
      "#Setup the environment\n",
      "import numpy as np\n",
      "import matplotlib.pyplot as plt\n",
      "%matplotlib inline\n",
      "\n",
      "import nengo"
     ],
     "language": "python",
     "metadata": {},
     "outputs": [
      {
       "javascript": [
        "\n",
        "        require([\"widgets/js/widget\", \"widgets/js/manager\"],\n",
        "            function(widget, manager) {\n",
        "          if (typeof widget.DOMWidgetView == 'undefined') {\n",
        "            widget = IPython;\n",
        "          }\n",
        "          if (typeof manager.WidgetManager == 'undefined') {\n",
        "            manager = IPython;\n",
        "          }\n",
        "\n",
        "          var NengoProgressBar = widget.DOMWidgetView.extend({\n",
        "            render: function() {\n",
        "              // $el is the DOM of the widget\n",
        "              this.$el.css({width: '100%', marginBottom: '0.5em'});\n",
        "              this.$el.html([\n",
        "                '<div style=\"',\n",
        "                    'width: 100%;',\n",
        "                    'border: 1px solid #cfcfcf;',\n",
        "                    'border-radius: 4px;',\n",
        "                    'text-align: center;',\n",
        "                    'position: relative;\">',\n",
        "                  '<div class=\"pb-text\" style=\"',\n",
        "                      'position: absolute;',\n",
        "                      'width: 100%;\">',\n",
        "                    '0%',\n",
        "                  '</div>',\n",
        "                  '<div class=\"pb-bar\" style=\"',\n",
        "                      'background-color: #bdd2e6;',\n",
        "                      'width: 0%;',\n",
        "                      'transition: width 0.1s linear;\">',\n",
        "                    '&nbsp;',\n",
        "                  '</div>',\n",
        "                '</div>'].join(''));\n",
        "            },\n",
        "\n",
        "            update: function() {\n",
        "              this.$el.css({width: '100%', marginBottom: '0.5em'});\n",
        "              var progress = 100 * this.model.get('progress');\n",
        "              var text = this.model.get('text');\n",
        "              this.$el.find('div.pb-bar').width(progress.toString() + '%');\n",
        "              this.$el.find('div.pb-text').text(text);\n",
        "            },\n",
        "          });\n",
        "\n",
        "          manager.WidgetManager.register_widget_view(\n",
        "            'NengoProgressBar', NengoProgressBar);\n",
        "        });"
       ],
       "metadata": {},
       "output_type": "display_data",
       "text": [
        "<IPython.core.display.Javascript at 0x7f6a48277750>"
       ]
      }
     ],
     "prompt_number": 1
    },
    {
     "cell_type": "markdown",
     "metadata": {},
     "source": [
      "## Create the Model"
     ]
    },
    {
     "cell_type": "markdown",
     "metadata": {},
     "source": [
      "This model contains the parameters as described in the book. Setting the transform equal to the 'weight_matrix' is analogous to entering the weights in the \"2 to 3 Coupling Matrix\" window in nengo1.4 GUI as described in the book. "
     ]
    },
    {
     "cell_type": "code",
     "collapsed": false,
     "input": [
      "#Create a 'model' object to which we can add ensembles, connections, etc.  \n",
      "model = nengo.Network(label=\"Arbitraty Linear Transformation\")\n",
      "with model:\n",
      "    #Two-dimensional input signal with constant values of 0.5 and -0.5 in two dimensions\n",
      "    input = nengo.Node(lambda t: [.5,-.5])\n",
      "      \n",
      "    # Ensembles with 200 LIF neurons having dimentions 2 and 3\n",
      "    x = nengo.Ensemble(200, dimensions=2)\n",
      "    z = nengo.Ensemble(200, dimensions=3)\n",
      "       \n",
      "    #Connect the input to ensemble x\n",
      "    nengo.Connection(input, x)\n",
      "    \n",
      "    #Connect ensemble x to ensemble z using a weight matrix\n",
      "    weight_matrix = [[0.0, 1.0], [1.0, 0.0], [0.5, 0.5]]   \n",
      "    nengo.Connection(x, z, transform = weight_matrix)"
     ],
     "language": "python",
     "metadata": {},
     "outputs": [],
     "prompt_number": 2
    },
    {
     "cell_type": "markdown",
     "metadata": {},
     "source": [
      "## Add Probes to Collect Data\n"
     ]
    },
    {
     "cell_type": "code",
     "collapsed": false,
     "input": [
      "with model:\n",
      "    input_probe = nengo.Probe(input)          #Input to ensemble x\n",
      "    x_probe = nengo.Probe(x, synapse=0.01)    #Decoded ouput of ensemble x\n",
      "    z_probe = nengo.Probe(z, synapse=0.01)    #Decoded ouput of ensemble z"
     ],
     "language": "python",
     "metadata": {},
     "outputs": [],
     "prompt_number": 3
    },
    {
     "cell_type": "markdown",
     "metadata": {},
     "source": [
      "## Run the Model"
     ]
    },
    {
     "cell_type": "code",
     "collapsed": false,
     "input": [
      "sim = nengo.Simulator(model)   #Create the simulator\n",
      "sim.run(5)    #Run it for 5 seconds"
     ],
     "language": "python",
     "metadata": {},
     "outputs": [],
     "prompt_number": 4
    },
    {
     "cell_type": "markdown",
     "metadata": {},
     "source": [
      "## Plot the Results"
     ]
    },
    {
     "cell_type": "code",
     "collapsed": false,
     "input": [
      "plt.figure(figsize=(9, 3))\n",
      "plt.subplot(1, 3, 1)\n",
      "plt.title(\"input\")\n",
      "plt.ylim(-1.2, 1.2)\n",
      "plt.plot(sim.trange(), sim.data[input_probe]);\n",
      "\n",
      "plt.subplot(1, 3, 2)\n",
      "plt.title(\"ensemble x\")\n",
      "plt.ylim(-1.2, 1.2)\n",
      "plt.plot(sim.trange(), sim.data[x_probe]);\n",
      "\n",
      "plt.subplot(1,3,3)\n",
      "plt.title(\"ensemble z\")\n",
      "plt.ylim(-1.2, 1.2)\n",
      "plt.plot(sim.trange(), sim.data[z_probe]);"
     ],
     "language": "python",
     "metadata": {},
     "outputs": [
      {
       "metadata": {},
       "output_type": "display_data",
       "png": "[encoded data removed]",
       "text": [
        "<matplotlib.figure.Figure at 0x7f6a4744bbd0>"
       ]
      }
     ],
     "prompt_number": 11
    },
    {
     "cell_type": "markdown",
     "metadata": {},
     "source": [
      "The graphs above show a two-dimesional input linearly projected on to a two-dimensional ensemble of neurons (`x`), which further linearly projects it on to a three-dimesional neuronal ensemble (`z`)."
     ]
    }
   ],
   "metadata": {}
  }
 ]
}